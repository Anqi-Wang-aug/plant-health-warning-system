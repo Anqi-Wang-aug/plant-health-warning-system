{
 "cells": [
  {
   "cell_type": "markdown",
   "metadata": {},
   "source": [
    "# import libraries"
   ]
  },
  {
   "cell_type": "code",
   "execution_count": 73,
   "metadata": {},
   "outputs": [],
   "source": [
    "import numpy as np \n",
    "import pandas as pd \n",
    "import datetime\n",
    "from matplotlib import pyplot as plt"
   ]
  },
  {
   "cell_type": "markdown",
   "metadata": {},
   "source": [
    "# import data"
   ]
  },
  {
   "cell_type": "code",
   "execution_count": 74,
   "metadata": {},
   "outputs": [
    {
     "data": {
      "text/html": [
       "<div>\n",
       "<style scoped>\n",
       "    .dataframe tbody tr th:only-of-type {\n",
       "        vertical-align: middle;\n",
       "    }\n",
       "\n",
       "    .dataframe tbody tr th {\n",
       "        vertical-align: top;\n",
       "    }\n",
       "\n",
       "    .dataframe thead th {\n",
       "        text-align: right;\n",
       "    }\n",
       "</style>\n",
       "<table border=\"1\" class=\"dataframe\">\n",
       "  <thead>\n",
       "    <tr style=\"text-align: right;\">\n",
       "      <th></th>\n",
       "      <th>battery</th>\n",
       "      <th>conductivity</th>\n",
       "      <th>light</th>\n",
       "      <th>moisture</th>\n",
       "      <th>temperature</th>\n",
       "      <th>timestamp</th>\n",
       "    </tr>\n",
       "  </thead>\n",
       "  <tbody>\n",
       "    <tr>\n",
       "      <th>count</th>\n",
       "      <td>2695.000000</td>\n",
       "      <td>2695.000000</td>\n",
       "      <td>2695.000000</td>\n",
       "      <td>2695.000000</td>\n",
       "      <td>2695.000000</td>\n",
       "      <td>2.695000e+03</td>\n",
       "    </tr>\n",
       "    <tr>\n",
       "      <th>mean</th>\n",
       "      <td>73.217811</td>\n",
       "      <td>2102.319481</td>\n",
       "      <td>996.339889</td>\n",
       "      <td>40.411503</td>\n",
       "      <td>29.146160</td>\n",
       "      <td>1.715171e+12</td>\n",
       "    </tr>\n",
       "    <tr>\n",
       "      <th>std</th>\n",
       "      <td>31.531563</td>\n",
       "      <td>827.349404</td>\n",
       "      <td>1414.100252</td>\n",
       "      <td>9.819995</td>\n",
       "      <td>2.034633</td>\n",
       "      <td>1.109281e+09</td>\n",
       "    </tr>\n",
       "    <tr>\n",
       "      <th>min</th>\n",
       "      <td>27.000000</td>\n",
       "      <td>325.000000</td>\n",
       "      <td>0.000000</td>\n",
       "      <td>0.000000</td>\n",
       "      <td>22.000000</td>\n",
       "      <td>1.714410e+12</td>\n",
       "    </tr>\n",
       "    <tr>\n",
       "      <th>25%</th>\n",
       "      <td>33.000000</td>\n",
       "      <td>1581.500000</td>\n",
       "      <td>0.000000</td>\n",
       "      <td>32.000000</td>\n",
       "      <td>27.700000</td>\n",
       "      <td>1.714619e+12</td>\n",
       "    </tr>\n",
       "    <tr>\n",
       "      <th>50%</th>\n",
       "      <td>90.000000</td>\n",
       "      <td>1928.000000</td>\n",
       "      <td>56.000000</td>\n",
       "      <td>38.000000</td>\n",
       "      <td>28.800000</td>\n",
       "      <td>1.715047e+12</td>\n",
       "    </tr>\n",
       "    <tr>\n",
       "      <th>75%</th>\n",
       "      <td>100.000000</td>\n",
       "      <td>2478.000000</td>\n",
       "      <td>1677.000000</td>\n",
       "      <td>50.000000</td>\n",
       "      <td>30.500000</td>\n",
       "      <td>1.715377e+12</td>\n",
       "    </tr>\n",
       "    <tr>\n",
       "      <th>max</th>\n",
       "      <td>100.000000</td>\n",
       "      <td>4829.000000</td>\n",
       "      <td>6740.000000</td>\n",
       "      <td>93.000000</td>\n",
       "      <td>33.900000</td>\n",
       "      <td>1.721559e+12</td>\n",
       "    </tr>\n",
       "  </tbody>\n",
       "</table>\n",
       "</div>"
      ],
      "text/plain": [
       "           battery  conductivity        light     moisture  temperature   \n",
       "count  2695.000000   2695.000000  2695.000000  2695.000000  2695.000000  \\\n",
       "mean     73.217811   2102.319481   996.339889    40.411503    29.146160   \n",
       "std      31.531563    827.349404  1414.100252     9.819995     2.034633   \n",
       "min      27.000000    325.000000     0.000000     0.000000    22.000000   \n",
       "25%      33.000000   1581.500000     0.000000    32.000000    27.700000   \n",
       "50%      90.000000   1928.000000    56.000000    38.000000    28.800000   \n",
       "75%     100.000000   2478.000000  1677.000000    50.000000    30.500000   \n",
       "max     100.000000   4829.000000  6740.000000    93.000000    33.900000   \n",
       "\n",
       "          timestamp  \n",
       "count  2.695000e+03  \n",
       "mean   1.715171e+12  \n",
       "std    1.109281e+09  \n",
       "min    1.714410e+12  \n",
       "25%    1.714619e+12  \n",
       "50%    1.715047e+12  \n",
       "75%    1.715377e+12  \n",
       "max    1.721559e+12  "
      ]
     },
     "execution_count": 74,
     "metadata": {},
     "output_type": "execute_result"
    }
   ],
   "source": [
    "data = pd.read_csv('moniflora.csv')\n",
    "data.describe()"
   ]
  },
  {
   "cell_type": "markdown",
   "metadata": {},
   "source": [
    "# Aim of this notebook\n",
    "The aim of this work is to build a warning system that can detect this cherry tomato's health status and make suggestions to cultivators to better enhacne this plant's wellbeing. \n",
    "\n",
    "From this notebook [cherry_tomato_prediction](https://www.kaggle.com/code/adastroabyssosque/cherry-tomato-prediction), this dataset doesn't contain null values. So we can jump right into keeping the only information we need.\n",
    "\n",
    "## Assumption\n",
    "All data are produced from one plant"
   ]
  },
  {
   "cell_type": "markdown",
   "metadata": {},
   "source": [
    "# initial data processing"
   ]
  },
  {
   "cell_type": "code",
   "execution_count": 75,
   "metadata": {},
   "outputs": [],
   "source": [
    "# drop unnecessary columns first\n",
    "data = data.drop(['battery', 'createdAt', 'bioname', 'localname', 'id'], axis=1)"
   ]
  },
  {
   "cell_type": "markdown",
   "metadata": {},
   "source": [
    "## convert timestamp to datetime"
   ]
  },
  {
   "cell_type": "code",
   "execution_count": 76,
   "metadata": {},
   "outputs": [
    {
     "data": {
      "text/html": [
       "<div>\n",
       "<style scoped>\n",
       "    .dataframe tbody tr th:only-of-type {\n",
       "        vertical-align: middle;\n",
       "    }\n",
       "\n",
       "    .dataframe tbody tr th {\n",
       "        vertical-align: top;\n",
       "    }\n",
       "\n",
       "    .dataframe thead th {\n",
       "        text-align: right;\n",
       "    }\n",
       "</style>\n",
       "<table border=\"1\" class=\"dataframe\">\n",
       "  <thead>\n",
       "    <tr style=\"text-align: right;\">\n",
       "      <th></th>\n",
       "      <th>conductivity</th>\n",
       "      <th>light</th>\n",
       "      <th>moisture</th>\n",
       "      <th>temperature</th>\n",
       "      <th>timestamp</th>\n",
       "    </tr>\n",
       "  </thead>\n",
       "  <tbody>\n",
       "    <tr>\n",
       "      <th>0</th>\n",
       "      <td>1872</td>\n",
       "      <td>3821</td>\n",
       "      <td>45</td>\n",
       "      <td>26.1</td>\n",
       "      <td>1714410192257</td>\n",
       "    </tr>\n",
       "    <tr>\n",
       "      <th>1</th>\n",
       "      <td>1928</td>\n",
       "      <td>4121</td>\n",
       "      <td>38</td>\n",
       "      <td>26.1</td>\n",
       "      <td>1714410495991</td>\n",
       "    </tr>\n",
       "    <tr>\n",
       "      <th>2</th>\n",
       "      <td>1809</td>\n",
       "      <td>3521</td>\n",
       "      <td>45</td>\n",
       "      <td>28.3</td>\n",
       "      <td>1714410798954</td>\n",
       "    </tr>\n",
       "    <tr>\n",
       "      <th>3</th>\n",
       "      <td>1892</td>\n",
       "      <td>4221</td>\n",
       "      <td>45</td>\n",
       "      <td>26.0</td>\n",
       "      <td>1714411103232</td>\n",
       "    </tr>\n",
       "    <tr>\n",
       "      <th>4</th>\n",
       "      <td>1883</td>\n",
       "      <td>4230</td>\n",
       "      <td>48</td>\n",
       "      <td>26.5</td>\n",
       "      <td>1714411407162</td>\n",
       "    </tr>\n",
       "  </tbody>\n",
       "</table>\n",
       "</div>"
      ],
      "text/plain": [
       "   conductivity  light  moisture  temperature      timestamp\n",
       "0          1872   3821        45         26.1  1714410192257\n",
       "1          1928   4121        38         26.1  1714410495991\n",
       "2          1809   3521        45         28.3  1714410798954\n",
       "3          1892   4221        45         26.0  1714411103232\n",
       "4          1883   4230        48         26.5  1714411407162"
      ]
     },
     "execution_count": 76,
     "metadata": {},
     "output_type": "execute_result"
    }
   ],
   "source": [
    "data.head()"
   ]
  },
  {
   "cell_type": "code",
   "execution_count": 77,
   "metadata": {},
   "outputs": [],
   "source": [
    "data['time'] = data['timestamp'].apply(lambda x: datetime.datetime.fromtimestamp(x/1000).replace(microsecond=0))\n",
    "data = data.drop('timestamp', axis=1)"
   ]
  },
  {
   "cell_type": "markdown",
   "metadata": {},
   "source": [
    "# Feature Engineering\n",
    "\n",
    "We're going to generate some new features/modify our exisited features: \n",
    "- create new featuresalinity (in ppm): roughly $0.55\\times conductivity$ from this link: [Measuring Salinity](https://www.landscape.sa.gov.au/mr/publications/measuring-salinity#:~:text=Conversion%20for%20units%20used%20to%20measure%20salinity:&text=Simply%20times%20(x)%20EC%20(,55.)\n",
    "- convert EC's unit to (mS/cm) (simply divide it by 1,000)\n",
    "- create new feature eneergy_omitted (from a light source). This is roughly estimated by $ 0.0079\\times light$ (formula from this link: [Howto convert solar intensity in LUX to watt per meter square for sunlight?](https://www.researchgate.net/post/Howto_convert_solar_intensity_in_LUX_to_watt_per_meter_square_for_sunlight#:~:text=multiply%20lux%20to%200.0079%20which%20give%20you%20value%20of%20w%2Fm2.))"
   ]
  },
  {
   "cell_type": "code",
   "execution_count": 78,
   "metadata": {},
   "outputs": [],
   "source": [
    "data['salinity'] = 0.55*data['conductivity']\n",
    "data['conductivity'] = data['conductivity']/1000"
   ]
  },
  {
   "cell_type": "code",
   "execution_count": 79,
   "metadata": {},
   "outputs": [],
   "source": [
    "data['energey ommited'] =  0.0079*data['light']"
   ]
  },
  {
   "cell_type": "code",
   "execution_count": 80,
   "metadata": {},
   "outputs": [
    {
     "data": {
      "text/html": [
       "<div>\n",
       "<style scoped>\n",
       "    .dataframe tbody tr th:only-of-type {\n",
       "        vertical-align: middle;\n",
       "    }\n",
       "\n",
       "    .dataframe tbody tr th {\n",
       "        vertical-align: top;\n",
       "    }\n",
       "\n",
       "    .dataframe thead th {\n",
       "        text-align: right;\n",
       "    }\n",
       "</style>\n",
       "<table border=\"1\" class=\"dataframe\">\n",
       "  <thead>\n",
       "    <tr style=\"text-align: right;\">\n",
       "      <th></th>\n",
       "      <th>conductivity</th>\n",
       "      <th>light</th>\n",
       "      <th>moisture</th>\n",
       "      <th>temperature</th>\n",
       "      <th>time</th>\n",
       "      <th>salinity</th>\n",
       "      <th>energey ommited</th>\n",
       "    </tr>\n",
       "  </thead>\n",
       "  <tbody>\n",
       "    <tr>\n",
       "      <th>count</th>\n",
       "      <td>2695.000000</td>\n",
       "      <td>2695.000000</td>\n",
       "      <td>2695.000000</td>\n",
       "      <td>2695.000000</td>\n",
       "      <td>2695</td>\n",
       "      <td>2695.000000</td>\n",
       "      <td>2695.000000</td>\n",
       "    </tr>\n",
       "    <tr>\n",
       "      <th>mean</th>\n",
       "      <td>2.102319</td>\n",
       "      <td>996.339889</td>\n",
       "      <td>40.411503</td>\n",
       "      <td>29.146160</td>\n",
       "      <td>2024-05-08 22:19:46.720593664</td>\n",
       "      <td>1156.275714</td>\n",
       "      <td>7.871085</td>\n",
       "    </tr>\n",
       "    <tr>\n",
       "      <th>min</th>\n",
       "      <td>0.325000</td>\n",
       "      <td>0.000000</td>\n",
       "      <td>0.000000</td>\n",
       "      <td>22.000000</td>\n",
       "      <td>2024-04-30 03:03:12</td>\n",
       "      <td>178.750000</td>\n",
       "      <td>0.000000</td>\n",
       "    </tr>\n",
       "    <tr>\n",
       "      <th>25%</th>\n",
       "      <td>1.581500</td>\n",
       "      <td>0.000000</td>\n",
       "      <td>32.000000</td>\n",
       "      <td>27.700000</td>\n",
       "      <td>2024-05-02 13:01:12.500000</td>\n",
       "      <td>869.825000</td>\n",
       "      <td>0.000000</td>\n",
       "    </tr>\n",
       "    <tr>\n",
       "      <th>50%</th>\n",
       "      <td>1.928000</td>\n",
       "      <td>56.000000</td>\n",
       "      <td>38.000000</td>\n",
       "      <td>28.800000</td>\n",
       "      <td>2024-05-07 11:54:52</td>\n",
       "      <td>1060.400000</td>\n",
       "      <td>0.442400</td>\n",
       "    </tr>\n",
       "    <tr>\n",
       "      <th>75%</th>\n",
       "      <td>2.478000</td>\n",
       "      <td>1677.000000</td>\n",
       "      <td>50.000000</td>\n",
       "      <td>30.500000</td>\n",
       "      <td>2024-05-11 07:44:51.500000</td>\n",
       "      <td>1362.900000</td>\n",
       "      <td>13.248300</td>\n",
       "    </tr>\n",
       "    <tr>\n",
       "      <th>max</th>\n",
       "      <td>4.829000</td>\n",
       "      <td>6740.000000</td>\n",
       "      <td>93.000000</td>\n",
       "      <td>33.900000</td>\n",
       "      <td>2024-07-21 20:52:08</td>\n",
       "      <td>2655.950000</td>\n",
       "      <td>53.246000</td>\n",
       "    </tr>\n",
       "    <tr>\n",
       "      <th>std</th>\n",
       "      <td>0.827349</td>\n",
       "      <td>1414.100252</td>\n",
       "      <td>9.819995</td>\n",
       "      <td>2.034633</td>\n",
       "      <td>NaN</td>\n",
       "      <td>455.042172</td>\n",
       "      <td>11.171392</td>\n",
       "    </tr>\n",
       "  </tbody>\n",
       "</table>\n",
       "</div>"
      ],
      "text/plain": [
       "       conductivity        light     moisture  temperature   \n",
       "count   2695.000000  2695.000000  2695.000000  2695.000000  \\\n",
       "mean       2.102319   996.339889    40.411503    29.146160   \n",
       "min        0.325000     0.000000     0.000000    22.000000   \n",
       "25%        1.581500     0.000000    32.000000    27.700000   \n",
       "50%        1.928000    56.000000    38.000000    28.800000   \n",
       "75%        2.478000  1677.000000    50.000000    30.500000   \n",
       "max        4.829000  6740.000000    93.000000    33.900000   \n",
       "std        0.827349  1414.100252     9.819995     2.034633   \n",
       "\n",
       "                                time     salinity  energey ommited  \n",
       "count                           2695  2695.000000      2695.000000  \n",
       "mean   2024-05-08 22:19:46.720593664  1156.275714         7.871085  \n",
       "min              2024-04-30 03:03:12   178.750000         0.000000  \n",
       "25%       2024-05-02 13:01:12.500000   869.825000         0.000000  \n",
       "50%              2024-05-07 11:54:52  1060.400000         0.442400  \n",
       "75%       2024-05-11 07:44:51.500000  1362.900000        13.248300  \n",
       "max              2024-07-21 20:52:08  2655.950000        53.246000  \n",
       "std                              NaN   455.042172        11.171392  "
      ]
     },
     "execution_count": 80,
     "metadata": {},
     "output_type": "execute_result"
    }
   ],
   "source": [
    "data.describe()"
   ]
  },
  {
   "cell_type": "code",
   "execution_count": 81,
   "metadata": {},
   "outputs": [],
   "source": [
    "# sort our data \n",
    "data = data.sort_values(by='time')"
   ]
  },
  {
   "cell_type": "markdown",
   "metadata": {},
   "source": [
    "# more focus on moisture\n",
    "\n",
    "We can see that there're values of 0 in the `moisture` column. The question is whether this is due to error."
   ]
  },
  {
   "cell_type": "code",
   "execution_count": 82,
   "metadata": {},
   "outputs": [
    {
     "data": {
      "text/plain": [
       "{'whiskers': [<matplotlib.lines.Line2D at 0x1d5d52be7a0>,\n",
       "  <matplotlib.lines.Line2D at 0x1d5d52be500>],\n",
       " 'caps': [<matplotlib.lines.Line2D at 0x1d5d52be260>,\n",
       "  <matplotlib.lines.Line2D at 0x1d5d52bdfc0>],\n",
       " 'boxes': [<matplotlib.lines.Line2D at 0x1d5d52bea40>],\n",
       " 'medians': [<matplotlib.lines.Line2D at 0x1d5d52bdd20>],\n",
       " 'fliers': [<matplotlib.lines.Line2D at 0x1d5d52bda80>],\n",
       " 'means': []}"
      ]
     },
     "execution_count": 82,
     "metadata": {},
     "output_type": "execute_result"
    },
    {
     "data": {
      "image/png": "[encoded data removed]",
      "text/plain": [
       "<Figure size 640x480 with 1 Axes>"
      ]
     },
     "metadata": {},
     "output_type": "display_data"
    }
   ],
   "source": [
    "plt.boxplot(data['moisture'])"
   ]
  },
  {
   "cell_type": "code",
   "execution_count": 83,
   "metadata": {},
   "outputs": [
    {
     "data": {
      "text/html": [
       "<div>\n",
       "<style scoped>\n",
       "    .dataframe tbody tr th:only-of-type {\n",
       "        vertical-align: middle;\n",
       "    }\n",
       "\n",
       "    .dataframe tbody tr th {\n",
       "        vertical-align: top;\n",
       "    }\n",
       "\n",
       "    .dataframe thead th {\n",
       "        text-align: right;\n",
       "    }\n",
       "</style>\n",
       "<table border=\"1\" class=\"dataframe\">\n",
       "  <thead>\n",
       "    <tr style=\"text-align: right;\">\n",
       "      <th></th>\n",
       "      <th>conductivity</th>\n",
       "      <th>light</th>\n",
       "      <th>moisture</th>\n",
       "      <th>temperature</th>\n",
       "      <th>time</th>\n",
       "      <th>salinity</th>\n",
       "      <th>energey ommited</th>\n",
       "    </tr>\n",
       "  </thead>\n",
       "  <tbody>\n",
       "    <tr>\n",
       "      <th>1343</th>\n",
       "      <td>0.325</td>\n",
       "      <td>233</td>\n",
       "      <td>0</td>\n",
       "      <td>28.3</td>\n",
       "      <td>2024-05-07 11:34:38</td>\n",
       "      <td>178.75</td>\n",
       "      <td>1.8407</td>\n",
       "    </tr>\n",
       "  </tbody>\n",
       "</table>\n",
       "</div>"
      ],
      "text/plain": [
       "      conductivity  light  moisture  temperature                time   \n",
       "1343         0.325    233         0         28.3 2024-05-07 11:34:38  \\\n",
       "\n",
       "      salinity  energey ommited  \n",
       "1343    178.75           1.8407  "
      ]
     },
     "execution_count": 83,
     "metadata": {},
     "output_type": "execute_result"
    }
   ],
   "source": [
    "data.loc[data['moisture']==0]"
   ]
  },
  {
   "cell_type": "code",
   "execution_count": 84,
   "metadata": {},
   "outputs": [
    {
     "data": {
      "text/html": [
       "<div>\n",
       "<style scoped>\n",
       "    .dataframe tbody tr th:only-of-type {\n",
       "        vertical-align: middle;\n",
       "    }\n",
       "\n",
       "    .dataframe tbody tr th {\n",
       "        vertical-align: top;\n",
       "    }\n",
       "\n",
       "    .dataframe thead th {\n",
       "        text-align: right;\n",
       "    }\n",
       "</style>\n",
       "<table border=\"1\" class=\"dataframe\">\n",
       "  <thead>\n",
       "    <tr style=\"text-align: right;\">\n",
       "      <th></th>\n",
       "      <th>conductivity</th>\n",
       "      <th>light</th>\n",
       "      <th>moisture</th>\n",
       "      <th>temperature</th>\n",
       "      <th>time</th>\n",
       "      <th>salinity</th>\n",
       "      <th>energey ommited</th>\n",
       "    </tr>\n",
       "  </thead>\n",
       "  <tbody>\n",
       "    <tr>\n",
       "      <th>1342</th>\n",
       "      <td>4.613</td>\n",
       "      <td>1010</td>\n",
       "      <td>60</td>\n",
       "      <td>28.3</td>\n",
       "      <td>2024-05-07 11:33:24</td>\n",
       "      <td>2537.15</td>\n",
       "      <td>7.9790</td>\n",
       "    </tr>\n",
       "    <tr>\n",
       "      <th>1343</th>\n",
       "      <td>0.325</td>\n",
       "      <td>233</td>\n",
       "      <td>0</td>\n",
       "      <td>28.3</td>\n",
       "      <td>2024-05-07 11:34:38</td>\n",
       "      <td>178.75</td>\n",
       "      <td>1.8407</td>\n",
       "    </tr>\n",
       "    <tr>\n",
       "      <th>1344</th>\n",
       "      <td>3.952</td>\n",
       "      <td>1107</td>\n",
       "      <td>38</td>\n",
       "      <td>28.4</td>\n",
       "      <td>2024-05-07 11:39:41</td>\n",
       "      <td>2173.60</td>\n",
       "      <td>8.7453</td>\n",
       "    </tr>\n",
       "  </tbody>\n",
       "</table>\n",
       "</div>"
      ],
      "text/plain": [
       "      conductivity  light  moisture  temperature                time   \n",
       "1342         4.613   1010        60         28.3 2024-05-07 11:33:24  \\\n",
       "1343         0.325    233         0         28.3 2024-05-07 11:34:38   \n",
       "1344         3.952   1107        38         28.4 2024-05-07 11:39:41   \n",
       "\n",
       "      salinity  energey ommited  \n",
       "1342   2537.15           7.9790  \n",
       "1343    178.75           1.8407  \n",
       "1344   2173.60           8.7453  "
      ]
     },
     "execution_count": 84,
     "metadata": {},
     "output_type": "execute_result"
    }
   ],
   "source": [
    "data.loc[[1342, 1343, 1344]]"
   ]
  },
  {
   "cell_type": "markdown",
   "metadata": {},
   "source": [
    "We can now conclude that it's more likely due to an error. Since the timing is also close, we'll drop this data"
   ]
  },
  {
   "cell_type": "code",
   "execution_count": 85,
   "metadata": {},
   "outputs": [],
   "source": [
    "data = data.drop(index=1343, axis=0)"
   ]
  },
  {
   "cell_type": "code",
   "execution_count": 91,
   "metadata": {},
   "outputs": [],
   "source": [
    "data = data.reset_index(drop=True)"
   ]
  },
  {
   "cell_type": "code",
   "execution_count": null,
   "metadata": {},
   "outputs": [],
   "source": []
  }
 ],
 "metadata": {
  "kernelspec": {
   "display_name": "Python 3",
   "language": "python",
   "name": "python3"
  },
  "language_info": {
   "codemirror_mode": {
    "name": "ipython",
    "version": 3
   },
   "file_extension": ".py",
   "mimetype": "text/x-python",
   "name": "python",
   "nbconvert_exporter": "python",
   "pygments_lexer": "ipython3",
   "version": "3.10.11"
  },
  "orig_nbformat": 4
 },
 "nbformat": 4,
 "nbformat_minor": 2
}
